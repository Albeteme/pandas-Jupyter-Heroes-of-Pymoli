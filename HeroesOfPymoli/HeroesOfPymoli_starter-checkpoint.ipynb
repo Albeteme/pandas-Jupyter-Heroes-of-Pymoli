{
 "cells": [
  {
   "cell_type": "markdown",
   "metadata": {},
   "source": [
    "#### Note\n",
    "* Instructions have been included for each segment. You do not have to follow them exactly, but they are included to help you think through the steps."
   ]
  },
  {
   "cell_type": "code",
   "execution_count": 1,
   "metadata": {},
   "outputs": [],
   "source": [
    "# Dependencies and Setup\n",
    "import pandas as pd\n",
    "\n",
    "# File to Load (Remember to Change These)\n",
    "csv_path = \"Resources/purchase_data.csv\"\n",
    "\n",
    "# Read Purchasing File and store into Pandas data frame\n",
    "purchase_df = pd.read_csv(csv_path, encoding=\"utf-8\")"
   ]
  },
  {
   "cell_type": "markdown",
   "metadata": {},
   "source": [
    "## Player Count"
   ]
  },
  {
   "cell_type": "markdown",
   "metadata": {},
   "source": [
    "* Display the total number of players\n"
   ]
  },
  {
   "cell_type": "code",
   "execution_count": 2,
   "metadata": {
    "scrolled": true
   },
   "outputs": [
    {
     "data": {
      "text/html": [
       "<div>\n",
       "<style scoped>\n",
       "    .dataframe tbody tr th:only-of-type {\n",
       "        vertical-align: middle;\n",
       "    }\n",
       "\n",
       "    .dataframe tbody tr th {\n",
       "        vertical-align: top;\n",
       "    }\n",
       "\n",
       "    .dataframe thead th {\n",
       "        text-align: right;\n",
       "    }\n",
       "</style>\n",
       "<table border=\"1\" class=\"dataframe\">\n",
       "  <thead>\n",
       "    <tr style=\"text-align: right;\">\n",
       "      <th></th>\n",
       "      <th>Total Players</th>\n",
       "    </tr>\n",
       "  </thead>\n",
       "  <tbody>\n",
       "    <tr>\n",
       "      <th>0</th>\n",
       "      <td>576</td>\n",
       "    </tr>\n",
       "  </tbody>\n",
       "</table>\n",
       "</div>"
      ],
      "text/plain": [
       "   Total Players\n",
       "0            576"
      ]
     },
     "execution_count": 2,
     "metadata": {},
     "output_type": "execute_result"
    }
   ],
   "source": [
    "# Calculate and display total numbers of players in dataframe\n",
    "\n",
    "total_players_count =len(purchase_df[\"SN\"].unique())\n",
    "total_players_count\n",
    "total_df = pd.DataFrame({\"Total Players\": [total_players_count]})\n",
    "total_df"
   ]
  },
  {
   "cell_type": "markdown",
   "metadata": {},
   "source": [
    "## Purchasing Analysis (Total)"
   ]
  },
  {
   "cell_type": "markdown",
   "metadata": {},
   "source": [
    "* Run basic calculations to obtain number of unique items, average price, etc.\n",
    "\n",
    "\n",
    "* Create a summary data frame to hold the results\n",
    "\n",
    "\n",
    "* Optional: give the displayed data cleaner formatting\n",
    "\n",
    "\n",
    "* Display the summary data frame\n"
   ]
  },
  {
   "cell_type": "code",
   "execution_count": 3,
   "metadata": {
    "scrolled": true
   },
   "outputs": [
    {
     "data": {
      "text/html": [
       "<style  type=\"text/css\" >\n",
       "</style><table id=\"T_e807218c_9c02_11eb_bdf4_ecb1d7983b50\" ><thead>    <tr>        <th class=\"blank level0\" ></th>        <th class=\"col_heading level0 col0\" >Number of Unique Items</th>        <th class=\"col_heading level0 col1\" >Average Price</th>        <th class=\"col_heading level0 col2\" >Number of Purchases</th>        <th class=\"col_heading level0 col3\" >Total Revenue</th>    </tr></thead><tbody>\n",
       "                <tr>\n",
       "                        <th id=\"T_e807218c_9c02_11eb_bdf4_ecb1d7983b50level0_row0\" class=\"row_heading level0 row0\" >0</th>\n",
       "                        <td id=\"T_e807218c_9c02_11eb_bdf4_ecb1d7983b50row0_col0\" class=\"data row0 col0\" >179</td>\n",
       "                        <td id=\"T_e807218c_9c02_11eb_bdf4_ecb1d7983b50row0_col1\" class=\"data row0 col1\" >$3.05</td>\n",
       "                        <td id=\"T_e807218c_9c02_11eb_bdf4_ecb1d7983b50row0_col2\" class=\"data row0 col2\" >780</td>\n",
       "                        <td id=\"T_e807218c_9c02_11eb_bdf4_ecb1d7983b50row0_col3\" class=\"data row0 col3\" >$2,379.77</td>\n",
       "            </tr>\n",
       "    </tbody></table>"
      ],
      "text/plain": [
       "<pandas.io.formats.style.Styler at 0x14414e36ba8>"
      ]
     },
     "execution_count": 3,
     "metadata": {},
     "output_type": "execute_result"
    }
   ],
   "source": [
    "# Finding number of unique items, average price, number of purchases, total of revenue\n",
    "\n",
    " # Total of unique items\n",
    "number_unique_items = len(purchase_df[\"Item Name\"].unique())\n",
    "number_unique_items\n",
    "\n",
    "# Average price\n",
    "average_price = purchase_df[\"Price\"].mean()\n",
    "average_price\n",
    "\n",
    "# Number of purchases\n",
    "number_purchases = purchase_df[\"Purchase ID\"].count()\n",
    "number_purchases\n",
    "\n",
    "# Total revenue\n",
    "total_revenue = purchase_df[\"Price\"].sum()\n",
    "total_revenue\n",
    "\n",
    "# Summary Formatting\n",
    "purchase_summary = pd.DataFrame({\"Number of Unique Items\":[number_unique_items], \"Average Price\": [average_price], \"Number of Purchases\":[number_purchases], \"Total Revenue\":[total_revenue]})\n",
    "purchase_summary = purchase_summary.style.format({'Average Price': '${:,.2f}', 'Total Revenue': '${:,.2f}'})\n",
    "purchase_summary"
   ]
  },
  {
   "cell_type": "markdown",
   "metadata": {},
   "source": [
    "## Gender Demographics"
   ]
  },
  {
   "cell_type": "markdown",
   "metadata": {},
   "source": [
    "* Percentage and Count of Male Players\n",
    "\n",
    "\n",
    "* Percentage and Count of Female Players\n",
    "\n",
    "\n",
    "* Percentage and Count of Other / Non-Disclosed\n",
    "\n",
    "\n"
   ]
  },
  {
   "cell_type": "code",
   "execution_count": 4,
   "metadata": {},
   "outputs": [
    {
     "data": {
      "text/html": [
       "<style  type=\"text/css\" >\n",
       "</style><table id=\"T_e8120178_9c02_11eb_a51a_ecb1d7983b50\" ><thead>    <tr>        <th class=\"blank level0\" ></th>        <th class=\"col_heading level0 col0\" >Total Count</th>        <th class=\"col_heading level0 col1\" >Percentage of Players</th>    </tr></thead><tbody>\n",
       "                <tr>\n",
       "                        <th id=\"T_e8120178_9c02_11eb_a51a_ecb1d7983b50level0_row0\" class=\"row_heading level0 row0\" >Male</th>\n",
       "                        <td id=\"T_e8120178_9c02_11eb_a51a_ecb1d7983b50row0_col0\" class=\"data row0 col0\" >484</td>\n",
       "                        <td id=\"T_e8120178_9c02_11eb_a51a_ecb1d7983b50row0_col1\" class=\"data row0 col1\" >84.03%</td>\n",
       "            </tr>\n",
       "            <tr>\n",
       "                        <th id=\"T_e8120178_9c02_11eb_a51a_ecb1d7983b50level0_row1\" class=\"row_heading level0 row1\" >Female</th>\n",
       "                        <td id=\"T_e8120178_9c02_11eb_a51a_ecb1d7983b50row1_col0\" class=\"data row1 col0\" >81</td>\n",
       "                        <td id=\"T_e8120178_9c02_11eb_a51a_ecb1d7983b50row1_col1\" class=\"data row1 col1\" >14.06%</td>\n",
       "            </tr>\n",
       "            <tr>\n",
       "                        <th id=\"T_e8120178_9c02_11eb_a51a_ecb1d7983b50level0_row2\" class=\"row_heading level0 row2\" >Other/Non-Disclosed</th>\n",
       "                        <td id=\"T_e8120178_9c02_11eb_a51a_ecb1d7983b50row2_col0\" class=\"data row2 col0\" >11</td>\n",
       "                        <td id=\"T_e8120178_9c02_11eb_a51a_ecb1d7983b50row2_col1\" class=\"data row2 col1\" >1.91%</td>\n",
       "            </tr>\n",
       "    </tbody></table>"
      ],
      "text/plain": [
       "<pandas.io.formats.style.Styler at 0x14415d97780>"
      ]
     },
     "execution_count": 4,
     "metadata": {},
     "output_type": "execute_result"
    }
   ],
   "source": [
    "# Finding number of players for each gendder and corresponding percentage\n",
    "\n",
    "# Total Count of male players\n",
    "Male = purchase_df.groupby(['Gender']).get_group(('Male'))\n",
    "Male_df = len(Male['SN'].unique())\n",
    "# Percentage Male players\n",
    "Male_percent = round((Male_df/total_players_count)*100,2)\n",
    "\n",
    "# Total Count of female players \n",
    "Female = purchase_df.groupby(['Gender']).get_group(('Female'))\n",
    "Female_df = len(Female['SN'].unique())\n",
    "# Percentage Female players\n",
    "Female_percent = round((Female_df/total_players_count)*100,2)\n",
    "\n",
    "# Total Count of Other / Non-Disclosed\n",
    "Other_Non_Disclosed = purchase_df.groupby(['Gender']).get_group(('Other / Non-Disclosed'))\n",
    "Other_Non_Disclosed_df = len(Other_Non_Disclosed ['SN'].unique())\n",
    "Other_Non_Disclosed_df\n",
    "# Percentage Other / Non-Disclosed\n",
    "Other_Non_Disclosed_percent = round((Other_Non_Disclosed_df/total_players_count)*100,2)\n",
    "\n",
    "# Gender dataframe\n",
    "gender_df = pd.DataFrame({'Total Count': [Male_df, Female_df, Other_Non_Disclosed_df],\n",
    "                          'Percentage of Players': [Male_percent, Female_percent, Other_Non_Disclosed_percent]})\n",
    "gender_df.index = (['Male', 'Female', 'Other/Non-Disclosed'])\n",
    "gender_df = gender_df.style.format({'Percentage of Players': '{:.2f}%'})\n",
    "gender_df"
   ]
  },
  {
   "cell_type": "markdown",
   "metadata": {},
   "source": [
    "\n",
    "## Purchasing Analysis (Gender)"
   ]
  },
  {
   "cell_type": "markdown",
   "metadata": {},
   "source": [
    "* Run basic calculations to obtain purchase count, avg. purchase price, avg. purchase total per person etc. by gender\n",
    "\n",
    "\n",
    "\n",
    "\n",
    "* Create a summary data frame to hold the results\n",
    "\n",
    "\n",
    "* Optional: give the displayed data cleaner formatting\n",
    "\n",
    "\n",
    "* Display the summary data frame"
   ]
  },
  {
   "cell_type": "code",
   "execution_count": 5,
   "metadata": {},
   "outputs": [
    {
     "data": {
      "text/html": [
       "<style  type=\"text/css\" >\n",
       "</style><table id=\"T_e830dc6e_9c02_11eb_b374_ecb1d7983b50\" ><thead>    <tr>        <th class=\"blank level0\" ></th>        <th class=\"col_heading level0 col0\" >Purchase Count</th>        <th class=\"col_heading level0 col1\" >Average Purchase Price</th>        <th class=\"col_heading level0 col2\" >Total Purchase Value</th>        <th class=\"col_heading level0 col3\" >Avg Total Purchase Per Person</th>    </tr>    <tr>        <th class=\"index_name level0\" >Gender</th>        <th class=\"blank\" ></th>        <th class=\"blank\" ></th>        <th class=\"blank\" ></th>        <th class=\"blank\" ></th>    </tr></thead><tbody>\n",
       "                <tr>\n",
       "                        <th id=\"T_e830dc6e_9c02_11eb_b374_ecb1d7983b50level0_row0\" class=\"row_heading level0 row0\" >Female</th>\n",
       "                        <td id=\"T_e830dc6e_9c02_11eb_b374_ecb1d7983b50row0_col0\" class=\"data row0 col0\" >113</td>\n",
       "                        <td id=\"T_e830dc6e_9c02_11eb_b374_ecb1d7983b50row0_col1\" class=\"data row0 col1\" >$3.20</td>\n",
       "                        <td id=\"T_e830dc6e_9c02_11eb_b374_ecb1d7983b50row0_col2\" class=\"data row0 col2\" >$361.94</td>\n",
       "                        <td id=\"T_e830dc6e_9c02_11eb_b374_ecb1d7983b50row0_col3\" class=\"data row0 col3\" >$3.20</td>\n",
       "            </tr>\n",
       "            <tr>\n",
       "                        <th id=\"T_e830dc6e_9c02_11eb_b374_ecb1d7983b50level0_row1\" class=\"row_heading level0 row1\" >Male</th>\n",
       "                        <td id=\"T_e830dc6e_9c02_11eb_b374_ecb1d7983b50row1_col0\" class=\"data row1 col0\" >652</td>\n",
       "                        <td id=\"T_e830dc6e_9c02_11eb_b374_ecb1d7983b50row1_col1\" class=\"data row1 col1\" >$3.02</td>\n",
       "                        <td id=\"T_e830dc6e_9c02_11eb_b374_ecb1d7983b50row1_col2\" class=\"data row1 col2\" >$1,967.64</td>\n",
       "                        <td id=\"T_e830dc6e_9c02_11eb_b374_ecb1d7983b50row1_col3\" class=\"data row1 col3\" >$3.02</td>\n",
       "            </tr>\n",
       "            <tr>\n",
       "                        <th id=\"T_e830dc6e_9c02_11eb_b374_ecb1d7983b50level0_row2\" class=\"row_heading level0 row2\" >Other / Non-Disclosed</th>\n",
       "                        <td id=\"T_e830dc6e_9c02_11eb_b374_ecb1d7983b50row2_col0\" class=\"data row2 col0\" >15</td>\n",
       "                        <td id=\"T_e830dc6e_9c02_11eb_b374_ecb1d7983b50row2_col1\" class=\"data row2 col1\" >$3.35</td>\n",
       "                        <td id=\"T_e830dc6e_9c02_11eb_b374_ecb1d7983b50row2_col2\" class=\"data row2 col2\" >$50.19</td>\n",
       "                        <td id=\"T_e830dc6e_9c02_11eb_b374_ecb1d7983b50row2_col3\" class=\"data row2 col3\" >$3.35</td>\n",
       "            </tr>\n",
       "    </tbody></table>"
      ],
      "text/plain": [
       "<pandas.io.formats.style.Styler at 0x14415d9bac8>"
      ]
     },
     "execution_count": 5,
     "metadata": {},
     "output_type": "execute_result"
    }
   ],
   "source": [
    "# Create a summary by finding purchase count, average price, total value and average purchase per person\n",
    "\n",
    "# Purchase for each gender\n",
    "gender_purchases_df = (purchase_df.groupby(\"Gender\")[\"Item Name\"]).count()\n",
    "gender_purchases_df\n",
    "\n",
    "# Average Purchase Price\n",
    "average_purchase_df = round(purchase_df.groupby(\"Gender\")[\"Price\"].mean(),2)\n",
    "average_purchase_df\n",
    "\n",
    "# Total Purchase Value\n",
    "total_value_df = purchase_df.groupby(\"Gender\")[\"Price\"].sum()\n",
    "total_value_df\n",
    "\n",
    "# Average Purchase Total per Person for each Gender \n",
    "person_purchase_df = round((total_value_df/gender_purchases_df),2)\n",
    "person_purchase_df\n",
    "\n",
    "# Summary of Analysis \n",
    "\n",
    "gender_analysis_df = pd.DataFrame({\"Purchase Count\":gender_purchases_df, \n",
    "                                   \"Average Purchase Price\":average_purchase_df,\n",
    "                                   \"Total Purchase Value\":total_value_df,\n",
    "                                   \"Avg Total Purchase Per Person\":person_purchase_df})\n",
    "gender_analysis_df = gender_analysis_df.style.format({'Average Purchase Price': '${:,.2f}', 'Total Purchase Value': '${:,.2f}', 'Avg Total Purchase Per Person':'${:,.2f}'})\n",
    "gender_analysis_df"
   ]
  },
  {
   "cell_type": "markdown",
   "metadata": {},
   "source": [
    "## Age Demographics"
   ]
  },
  {
   "cell_type": "markdown",
   "metadata": {},
   "source": [
    "* Establish bins for ages\n",
    "\n",
    "\n",
    "* Categorize the existing players using the age bins. Hint: use pd.cut()\n",
    "\n",
    "\n",
    "* Calculate the numbers and percentages by age group\n",
    "\n",
    "\n",
    "* Create a summary data frame to hold the results\n",
    "\n",
    "\n",
    "* Optional: round the percentage column to two decimal points\n",
    "\n",
    "\n",
    "* Display Age Demographics Table\n"
   ]
  },
  {
   "cell_type": "code",
   "execution_count": 6,
   "metadata": {
    "scrolled": true
   },
   "outputs": [
    {
     "data": {
      "text/html": [
       "<style  type=\"text/css\" >\n",
       "</style><table id=\"T_e83b8936_9c02_11eb_8611_ecb1d7983b50\" ><thead>    <tr>        <th class=\"blank level0\" ></th>        <th class=\"col_heading level0 col0\" >Player Count</th>        <th class=\"col_heading level0 col1\" >Percentage of Players</th>    </tr>    <tr>        <th class=\"index_name level0\" >Age</th>        <th class=\"blank\" ></th>        <th class=\"blank\" ></th>    </tr></thead><tbody>\n",
       "                <tr>\n",
       "                        <th id=\"T_e83b8936_9c02_11eb_8611_ecb1d7983b50level0_row0\" class=\"row_heading level0 row0\" ><10</th>\n",
       "                        <td id=\"T_e83b8936_9c02_11eb_8611_ecb1d7983b50row0_col0\" class=\"data row0 col0\" >17</td>\n",
       "                        <td id=\"T_e83b8936_9c02_11eb_8611_ecb1d7983b50row0_col1\" class=\"data row0 col1\" >2.95%</td>\n",
       "            </tr>\n",
       "            <tr>\n",
       "                        <th id=\"T_e83b8936_9c02_11eb_8611_ecb1d7983b50level0_row1\" class=\"row_heading level0 row1\" >10-14</th>\n",
       "                        <td id=\"T_e83b8936_9c02_11eb_8611_ecb1d7983b50row1_col0\" class=\"data row1 col0\" >22</td>\n",
       "                        <td id=\"T_e83b8936_9c02_11eb_8611_ecb1d7983b50row1_col1\" class=\"data row1 col1\" >3.82%</td>\n",
       "            </tr>\n",
       "            <tr>\n",
       "                        <th id=\"T_e83b8936_9c02_11eb_8611_ecb1d7983b50level0_row2\" class=\"row_heading level0 row2\" >15-19</th>\n",
       "                        <td id=\"T_e83b8936_9c02_11eb_8611_ecb1d7983b50row2_col0\" class=\"data row2 col0\" >107</td>\n",
       "                        <td id=\"T_e83b8936_9c02_11eb_8611_ecb1d7983b50row2_col1\" class=\"data row2 col1\" >18.58%</td>\n",
       "            </tr>\n",
       "            <tr>\n",
       "                        <th id=\"T_e83b8936_9c02_11eb_8611_ecb1d7983b50level0_row3\" class=\"row_heading level0 row3\" >20-24</th>\n",
       "                        <td id=\"T_e83b8936_9c02_11eb_8611_ecb1d7983b50row3_col0\" class=\"data row3 col0\" >258</td>\n",
       "                        <td id=\"T_e83b8936_9c02_11eb_8611_ecb1d7983b50row3_col1\" class=\"data row3 col1\" >44.79%</td>\n",
       "            </tr>\n",
       "            <tr>\n",
       "                        <th id=\"T_e83b8936_9c02_11eb_8611_ecb1d7983b50level0_row4\" class=\"row_heading level0 row4\" >25-29</th>\n",
       "                        <td id=\"T_e83b8936_9c02_11eb_8611_ecb1d7983b50row4_col0\" class=\"data row4 col0\" >77</td>\n",
       "                        <td id=\"T_e83b8936_9c02_11eb_8611_ecb1d7983b50row4_col1\" class=\"data row4 col1\" >13.37%</td>\n",
       "            </tr>\n",
       "            <tr>\n",
       "                        <th id=\"T_e83b8936_9c02_11eb_8611_ecb1d7983b50level0_row5\" class=\"row_heading level0 row5\" >30-34</th>\n",
       "                        <td id=\"T_e83b8936_9c02_11eb_8611_ecb1d7983b50row5_col0\" class=\"data row5 col0\" >52</td>\n",
       "                        <td id=\"T_e83b8936_9c02_11eb_8611_ecb1d7983b50row5_col1\" class=\"data row5 col1\" >9.03%</td>\n",
       "            </tr>\n",
       "            <tr>\n",
       "                        <th id=\"T_e83b8936_9c02_11eb_8611_ecb1d7983b50level0_row6\" class=\"row_heading level0 row6\" >35-39</th>\n",
       "                        <td id=\"T_e83b8936_9c02_11eb_8611_ecb1d7983b50row6_col0\" class=\"data row6 col0\" >31</td>\n",
       "                        <td id=\"T_e83b8936_9c02_11eb_8611_ecb1d7983b50row6_col1\" class=\"data row6 col1\" >5.38%</td>\n",
       "            </tr>\n",
       "            <tr>\n",
       "                        <th id=\"T_e83b8936_9c02_11eb_8611_ecb1d7983b50level0_row7\" class=\"row_heading level0 row7\" >40+</th>\n",
       "                        <td id=\"T_e83b8936_9c02_11eb_8611_ecb1d7983b50row7_col0\" class=\"data row7 col0\" >12</td>\n",
       "                        <td id=\"T_e83b8936_9c02_11eb_8611_ecb1d7983b50row7_col1\" class=\"data row7 col1\" >2.08%</td>\n",
       "            </tr>\n",
       "    </tbody></table>"
      ],
      "text/plain": [
       "<pandas.io.formats.style.Styler at 0x14414e36c50>"
      ]
     },
     "execution_count": 6,
     "metadata": {},
     "output_type": "execute_result"
    }
   ],
   "source": [
    "# Get age range for total of players\n",
    "\n",
    "# Bin to hold the age value and range \n",
    "age_bins = [0, 9.90, 14.90, 19.90, 24.90, 29.90, 34.90, 39.90, 99999]\n",
    "agegroup_names = [\"<10\", \"10-14\", \"15-19\", \"20-24\", \"25-29\", \"30-34\", \"35-39\", \"40+\"]\n",
    "\n",
    "# Category the players according to the age bin\n",
    "purchase_df['Age'] = pd.cut(purchase_df['Age'], age_bins, labels=agegroup_names)\n",
    "\n",
    "# DataFrame to store grouped by top-line stats based on age\n",
    "age_demo = pd.DataFrame(purchase_df.groupby('Age').SN.nunique())\n",
    "\n",
    "# Rename 'SN' column to 'User Count'\n",
    "age_demo = age_demo.rename(index=str, columns={'SN': 'Player Count'})\n",
    "\n",
    "# Percentage\n",
    "age_demo['Percentage of Players'] = age_demo['Player Count'] / sum(age_demo['Player Count'])*100\n",
    "\n",
    "# Summary Formatting\n",
    "age_demo = age_demo.style.format({'Percentage of Players': '{:.2f}%'})\n",
    "age_demo"
   ]
  },
  {
   "cell_type": "markdown",
   "metadata": {},
   "source": [
    "## Purchasing Analysis (Age)"
   ]
  },
  {
   "cell_type": "markdown",
   "metadata": {},
   "source": [
    "* Bin the purchase_data data frame by age\n",
    "\n",
    "\n",
    "* Run basic calculations to obtain purchase count, avg. purchase price, avg. purchase total per person etc. in the table below\n",
    "\n",
    "\n",
    "* Create a summary data frame to hold the results\n",
    "\n",
    "\n",
    "* Optional: give the displayed data cleaner formatting\n",
    "\n",
    "\n",
    "* Display the summary data frame"
   ]
  },
  {
   "cell_type": "markdown",
   "metadata": {},
   "source": [
    "## Top Spenders"
   ]
  },
  {
   "cell_type": "markdown",
   "metadata": {},
   "source": [
    "* Run basic calculations to obtain the results in the table below\n",
    "\n",
    "\n",
    "* Create a summary data frame to hold the results\n",
    "\n",
    "\n",
    "* Sort the total purchase value column in descending order\n",
    "\n",
    "\n",
    "* Optional: give the displayed data cleaner formatting\n",
    "\n",
    "\n",
    "* Display a preview of the summary data frame\n",
    "\n"
   ]
  },
  {
   "cell_type": "code",
   "execution_count": 12,
   "metadata": {},
   "outputs": [
    {
     "data": {
      "text/html": [
       "<div>\n",
       "<style scoped>\n",
       "    .dataframe tbody tr th:only-of-type {\n",
       "        vertical-align: middle;\n",
       "    }\n",
       "\n",
       "    .dataframe tbody tr th {\n",
       "        vertical-align: top;\n",
       "    }\n",
       "\n",
       "    .dataframe thead th {\n",
       "        text-align: right;\n",
       "    }\n",
       "</style>\n",
       "<table border=\"1\" class=\"dataframe\">\n",
       "  <thead>\n",
       "    <tr style=\"text-align: right;\">\n",
       "      <th></th>\n",
       "      <th>Purchase Count</th>\n",
       "      <th>Average Purchase Price</th>\n",
       "      <th>Total Purchase Value</th>\n",
       "    </tr>\n",
       "    <tr>\n",
       "      <th>SN</th>\n",
       "      <th></th>\n",
       "      <th></th>\n",
       "      <th></th>\n",
       "    </tr>\n",
       "  </thead>\n",
       "  <tbody>\n",
       "    <tr>\n",
       "      <th>Lisosia93</th>\n",
       "      <td>5</td>\n",
       "      <td>3.79</td>\n",
       "      <td>18.96</td>\n",
       "    </tr>\n",
       "    <tr>\n",
       "      <th>Idastidru52</th>\n",
       "      <td>4</td>\n",
       "      <td>3.86</td>\n",
       "      <td>15.45</td>\n",
       "    </tr>\n",
       "    <tr>\n",
       "      <th>Chamjask73</th>\n",
       "      <td>3</td>\n",
       "      <td>4.61</td>\n",
       "      <td>13.83</td>\n",
       "    </tr>\n",
       "    <tr>\n",
       "      <th>Iral74</th>\n",
       "      <td>4</td>\n",
       "      <td>3.40</td>\n",
       "      <td>13.62</td>\n",
       "    </tr>\n",
       "    <tr>\n",
       "      <th>Iskadarya95</th>\n",
       "      <td>3</td>\n",
       "      <td>4.37</td>\n",
       "      <td>13.10</td>\n",
       "    </tr>\n",
       "  </tbody>\n",
       "</table>\n",
       "</div>"
      ],
      "text/plain": [
       "             Purchase Count  Average Purchase Price  Total Purchase Value\n",
       "SN                                                                       \n",
       "Lisosia93                 5                    3.79                 18.96\n",
       "Idastidru52               4                    3.86                 15.45\n",
       "Chamjask73                3                    4.61                 13.83\n",
       "Iral74                    4                    3.40                 13.62\n",
       "Iskadarya95               3                    4.37                 13.10"
      ]
     },
     "execution_count": 12,
     "metadata": {},
     "output_type": "execute_result"
    }
   ],
   "source": [
    "# Find Top senders\n",
    "# Purchase count\n",
    "spenders_count_df = purchase_df.groupby(\"SN\")[\"Purchase ID\"].count()\n",
    "spenders_count_df\n",
    "\n",
    "# Average Purchase Price\n",
    "spenders_average_price_df = round(purchase_df.groupby(\"SN\")[\"Price\"].mean(),2)\n",
    "spenders_average_price_df\n",
    "\n",
    "# Total Purchase Value\n",
    "spenders_total_df = purchase_df.groupby(\"SN\")[\"Price\"].sum()\n",
    "spenders_total_df\n",
    "\n",
    "# Summary formatting\n",
    "spender_table_df = pd.DataFrame({\"Purchase Count\":spenders_count_df,\n",
    "                                   \"Average Purchase Price\":spenders_average_price_df,\n",
    "                                   \"Total Purchase Value\":spenders_total_df})\n",
    "spender_table_df\n",
    "\n",
    "# Determining the top 5 spenders\n",
    "top_five_spenders = spender_table_df.sort_values(\"Total Purchase Value\", ascending=False)\n",
    "top_five_spenders.head()"
   ]
  },
  {
   "cell_type": "markdown",
   "metadata": {},
   "source": [
    "## Most Popular Items"
   ]
  },
  {
   "cell_type": "markdown",
   "metadata": {},
   "source": [
    "* Retrieve the Item ID, Item Name, and Item Price columns\n",
    "\n",
    "\n",
    "* Group by Item ID and Item Name. Perform calculations to obtain purchase count, average item price, and total purchase value\n",
    "\n",
    "\n",
    "* Create a summary data frame to hold the results\n",
    "\n",
    "\n",
    "* Sort the purchase count column in descending order\n",
    "\n",
    "\n",
    "* Optional: give the displayed data cleaner formatting\n",
    "\n",
    "\n",
    "* Display a preview of the summary data frame\n",
    "\n"
   ]
  },
  {
   "cell_type": "code",
   "execution_count": 10,
   "metadata": {},
   "outputs": [
    {
     "data": {
      "text/html": [
       "<style  type=\"text/css\" >\n",
       "</style><table id=\"T_5ef54e3e_9c03_11eb_8816_ecb1d7983b50\" ><thead>    <tr>        <th class=\"blank\" ></th>        <th class=\"blank level0\" ></th>        <th class=\"col_heading level0 col0\" >Purchase Count</th>        <th class=\"col_heading level0 col1\" >Item Price</th>        <th class=\"col_heading level0 col2\" >Total Purchase Value</th>    </tr>    <tr>        <th class=\"index_name level0\" >Item ID</th>        <th class=\"index_name level1\" >Item Name</th>        <th class=\"blank\" ></th>        <th class=\"blank\" ></th>        <th class=\"blank\" ></th>    </tr></thead><tbody>\n",
       "                <tr>\n",
       "                        <th id=\"T_5ef54e3e_9c03_11eb_8816_ecb1d7983b50level0_row0\" class=\"row_heading level0 row0\" >92</th>\n",
       "                        <th id=\"T_5ef54e3e_9c03_11eb_8816_ecb1d7983b50level1_row0\" class=\"row_heading level1 row0\" >Final Critic</th>\n",
       "                        <td id=\"T_5ef54e3e_9c03_11eb_8816_ecb1d7983b50row0_col0\" class=\"data row0 col0\" >13</td>\n",
       "                        <td id=\"T_5ef54e3e_9c03_11eb_8816_ecb1d7983b50row0_col1\" class=\"data row0 col1\" >$4.61</td>\n",
       "                        <td id=\"T_5ef54e3e_9c03_11eb_8816_ecb1d7983b50row0_col2\" class=\"data row0 col2\" >$59.99</td>\n",
       "            </tr>\n",
       "            <tr>\n",
       "                        <th id=\"T_5ef54e3e_9c03_11eb_8816_ecb1d7983b50level0_row1\" class=\"row_heading level0 row1\" >178</th>\n",
       "                        <th id=\"T_5ef54e3e_9c03_11eb_8816_ecb1d7983b50level1_row1\" class=\"row_heading level1 row1\" >Oathbreaker, Last Hope of the Breaking Storm</th>\n",
       "                        <td id=\"T_5ef54e3e_9c03_11eb_8816_ecb1d7983b50row1_col0\" class=\"data row1 col0\" >12</td>\n",
       "                        <td id=\"T_5ef54e3e_9c03_11eb_8816_ecb1d7983b50row1_col1\" class=\"data row1 col1\" >$4.23</td>\n",
       "                        <td id=\"T_5ef54e3e_9c03_11eb_8816_ecb1d7983b50row1_col2\" class=\"data row1 col2\" >$50.76</td>\n",
       "            </tr>\n",
       "            <tr>\n",
       "                        <th id=\"T_5ef54e3e_9c03_11eb_8816_ecb1d7983b50level0_row2\" class=\"row_heading level0 row2\" >145</th>\n",
       "                        <th id=\"T_5ef54e3e_9c03_11eb_8816_ecb1d7983b50level1_row2\" class=\"row_heading level1 row2\" >Fiery Glass Crusader</th>\n",
       "                        <td id=\"T_5ef54e3e_9c03_11eb_8816_ecb1d7983b50row2_col0\" class=\"data row2 col0\" >9</td>\n",
       "                        <td id=\"T_5ef54e3e_9c03_11eb_8816_ecb1d7983b50row2_col1\" class=\"data row2 col1\" >$4.58</td>\n",
       "                        <td id=\"T_5ef54e3e_9c03_11eb_8816_ecb1d7983b50row2_col2\" class=\"data row2 col2\" >$41.22</td>\n",
       "            </tr>\n",
       "            <tr>\n",
       "                        <th id=\"T_5ef54e3e_9c03_11eb_8816_ecb1d7983b50level0_row3\" class=\"row_heading level0 row3\" >132</th>\n",
       "                        <th id=\"T_5ef54e3e_9c03_11eb_8816_ecb1d7983b50level1_row3\" class=\"row_heading level1 row3\" >Persuasion</th>\n",
       "                        <td id=\"T_5ef54e3e_9c03_11eb_8816_ecb1d7983b50row3_col0\" class=\"data row3 col0\" >9</td>\n",
       "                        <td id=\"T_5ef54e3e_9c03_11eb_8816_ecb1d7983b50row3_col1\" class=\"data row3 col1\" >$3.22</td>\n",
       "                        <td id=\"T_5ef54e3e_9c03_11eb_8816_ecb1d7983b50row3_col2\" class=\"data row3 col2\" >$28.99</td>\n",
       "            </tr>\n",
       "            <tr>\n",
       "                        <th id=\"T_5ef54e3e_9c03_11eb_8816_ecb1d7983b50level0_row4\" class=\"row_heading level0 row4\" >108</th>\n",
       "                        <th id=\"T_5ef54e3e_9c03_11eb_8816_ecb1d7983b50level1_row4\" class=\"row_heading level1 row4\" >Extraction, Quickblade Of Trembling Hands</th>\n",
       "                        <td id=\"T_5ef54e3e_9c03_11eb_8816_ecb1d7983b50row4_col0\" class=\"data row4 col0\" >9</td>\n",
       "                        <td id=\"T_5ef54e3e_9c03_11eb_8816_ecb1d7983b50row4_col1\" class=\"data row4 col1\" >$3.53</td>\n",
       "                        <td id=\"T_5ef54e3e_9c03_11eb_8816_ecb1d7983b50row4_col2\" class=\"data row4 col2\" >$31.77</td>\n",
       "            </tr>\n",
       "    </tbody></table>"
      ],
      "text/plain": [
       "<pandas.io.formats.style.Styler at 0x14415d9ba90>"
      ]
     },
     "execution_count": 10,
     "metadata": {},
     "output_type": "execute_result"
    }
   ],
   "source": [
    "# Most popular items grouped by number of purchases\n",
    "item_data = purchase_df[['Item ID', 'Item Name', 'Price']]\n",
    "\n",
    "# Putting data per item number and renaming to summarize all purchases\n",
    "top_purchases = pd.DataFrame(item_data.groupby(['Item ID', 'Item Name']).agg({'Price':['count', 'sum']}))\n",
    "\n",
    "# Collapsing column headers\n",
    "top_purchases.columns = top_purchases.columns.get_level_values(1)\n",
    "\n",
    "#add a new column that lists the original price\n",
    "top_purchases['Item Price'] = top_purchases['sum']/top_purchases['count']\n",
    "\n",
    "# Sorting columns \n",
    "top_purchases = top_purchases[['count', 'Item Price', 'sum']]\n",
    "\n",
    "# Rename columns to adjust with the data they are reflecting\n",
    "top_purchases = top_purchases.rename(index=str, columns={'count': 'Purchase Count', 'sum': 'Total Purchase Value'})\n",
    "\n",
    "# Sorting DataFrame per 'Purchase Count' to identify most popular items\n",
    "top_purchases = top_purchases.sort_values(by='Purchase Count', ascending=False)\n",
    "\n",
    "# Top 5 items\n",
    "top_5_purchases = top_purchases[0:5]\n",
    "\n",
    "# Summary formatting\n",
    "top_5_purchases = top_5_purchases.style.format({'Total Purchase Value': '${:.2f}', 'Item Price': '${:.2f}'})\n",
    "\n",
    "top_5_purchases"
   ]
  },
  {
   "cell_type": "markdown",
   "metadata": {},
   "source": [
    "## Most Profitable Items"
   ]
  },
  {
   "cell_type": "markdown",
   "metadata": {},
   "source": [
    "* Sort the above table by total purchase value in descending order\n",
    "\n",
    "\n",
    "* Optional: give the displayed data cleaner formatting\n",
    "\n",
    "\n",
    "* Display a preview of the data frame\n",
    "\n"
   ]
  },
  {
   "cell_type": "code",
   "execution_count": 11,
   "metadata": {
    "scrolled": true
   },
   "outputs": [
    {
     "data": {
      "text/html": [
       "<style  type=\"text/css\" >\n",
       "</style><table id=\"T_61ba8fdc_9c03_11eb_a9cf_ecb1d7983b50\" ><thead>    <tr>        <th class=\"blank\" ></th>        <th class=\"blank level0\" ></th>        <th class=\"col_heading level0 col0\" >Purchase Count</th>        <th class=\"col_heading level0 col1\" >Item Price</th>        <th class=\"col_heading level0 col2\" >Total Purchase Value</th>    </tr>    <tr>        <th class=\"index_name level0\" >Item ID</th>        <th class=\"index_name level1\" >Item Name</th>        <th class=\"blank\" ></th>        <th class=\"blank\" ></th>        <th class=\"blank\" ></th>    </tr></thead><tbody>\n",
       "                <tr>\n",
       "                        <th id=\"T_61ba8fdc_9c03_11eb_a9cf_ecb1d7983b50level0_row0\" class=\"row_heading level0 row0\" >92</th>\n",
       "                        <th id=\"T_61ba8fdc_9c03_11eb_a9cf_ecb1d7983b50level1_row0\" class=\"row_heading level1 row0\" >Final Critic</th>\n",
       "                        <td id=\"T_61ba8fdc_9c03_11eb_a9cf_ecb1d7983b50row0_col0\" class=\"data row0 col0\" >13</td>\n",
       "                        <td id=\"T_61ba8fdc_9c03_11eb_a9cf_ecb1d7983b50row0_col1\" class=\"data row0 col1\" >$4.61</td>\n",
       "                        <td id=\"T_61ba8fdc_9c03_11eb_a9cf_ecb1d7983b50row0_col2\" class=\"data row0 col2\" >$59.99</td>\n",
       "            </tr>\n",
       "            <tr>\n",
       "                        <th id=\"T_61ba8fdc_9c03_11eb_a9cf_ecb1d7983b50level0_row1\" class=\"row_heading level0 row1\" >178</th>\n",
       "                        <th id=\"T_61ba8fdc_9c03_11eb_a9cf_ecb1d7983b50level1_row1\" class=\"row_heading level1 row1\" >Oathbreaker, Last Hope of the Breaking Storm</th>\n",
       "                        <td id=\"T_61ba8fdc_9c03_11eb_a9cf_ecb1d7983b50row1_col0\" class=\"data row1 col0\" >12</td>\n",
       "                        <td id=\"T_61ba8fdc_9c03_11eb_a9cf_ecb1d7983b50row1_col1\" class=\"data row1 col1\" >$4.23</td>\n",
       "                        <td id=\"T_61ba8fdc_9c03_11eb_a9cf_ecb1d7983b50row1_col2\" class=\"data row1 col2\" >$50.76</td>\n",
       "            </tr>\n",
       "            <tr>\n",
       "                        <th id=\"T_61ba8fdc_9c03_11eb_a9cf_ecb1d7983b50level0_row2\" class=\"row_heading level0 row2\" >82</th>\n",
       "                        <th id=\"T_61ba8fdc_9c03_11eb_a9cf_ecb1d7983b50level1_row2\" class=\"row_heading level1 row2\" >Nirvana</th>\n",
       "                        <td id=\"T_61ba8fdc_9c03_11eb_a9cf_ecb1d7983b50row2_col0\" class=\"data row2 col0\" >9</td>\n",
       "                        <td id=\"T_61ba8fdc_9c03_11eb_a9cf_ecb1d7983b50row2_col1\" class=\"data row2 col1\" >$4.90</td>\n",
       "                        <td id=\"T_61ba8fdc_9c03_11eb_a9cf_ecb1d7983b50row2_col2\" class=\"data row2 col2\" >$44.10</td>\n",
       "            </tr>\n",
       "            <tr>\n",
       "                        <th id=\"T_61ba8fdc_9c03_11eb_a9cf_ecb1d7983b50level0_row3\" class=\"row_heading level0 row3\" >145</th>\n",
       "                        <th id=\"T_61ba8fdc_9c03_11eb_a9cf_ecb1d7983b50level1_row3\" class=\"row_heading level1 row3\" >Fiery Glass Crusader</th>\n",
       "                        <td id=\"T_61ba8fdc_9c03_11eb_a9cf_ecb1d7983b50row3_col0\" class=\"data row3 col0\" >9</td>\n",
       "                        <td id=\"T_61ba8fdc_9c03_11eb_a9cf_ecb1d7983b50row3_col1\" class=\"data row3 col1\" >$4.58</td>\n",
       "                        <td id=\"T_61ba8fdc_9c03_11eb_a9cf_ecb1d7983b50row3_col2\" class=\"data row3 col2\" >$41.22</td>\n",
       "            </tr>\n",
       "            <tr>\n",
       "                        <th id=\"T_61ba8fdc_9c03_11eb_a9cf_ecb1d7983b50level0_row4\" class=\"row_heading level0 row4\" >103</th>\n",
       "                        <th id=\"T_61ba8fdc_9c03_11eb_a9cf_ecb1d7983b50level1_row4\" class=\"row_heading level1 row4\" >Singed Scalpel</th>\n",
       "                        <td id=\"T_61ba8fdc_9c03_11eb_a9cf_ecb1d7983b50row4_col0\" class=\"data row4 col0\" >8</td>\n",
       "                        <td id=\"T_61ba8fdc_9c03_11eb_a9cf_ecb1d7983b50row4_col1\" class=\"data row4 col1\" >$4.35</td>\n",
       "                        <td id=\"T_61ba8fdc_9c03_11eb_a9cf_ecb1d7983b50row4_col2\" class=\"data row4 col2\" >$34.80</td>\n",
       "            </tr>\n",
       "    </tbody></table>"
      ],
      "text/plain": [
       "<pandas.io.formats.style.Styler at 0x14415dc41d0>"
      ]
     },
     "execution_count": 11,
     "metadata": {},
     "output_type": "execute_result"
    }
   ],
   "source": [
    "#Get most profitable items\n",
    "# Using the top purchases data from previous input cell to identify top volume items\n",
    "top_purchases = top_purchases.sort_values(by='Total Purchase Value', ascending=False)\n",
    "\n",
    "# Top 5 items\n",
    "top_5_volume = top_purchases[0:5]\n",
    "\n",
    "# Summary Formatting\n",
    "top_5_volume = top_5_volume.style.format({'Total Purchase Value': '${:.2f}', 'Item Price': '${:.2f}'})\n",
    "\n",
    "top_5_volume"
   ]
  },
  {
   "cell_type": "code",
   "execution_count": null,
   "metadata": {},
   "outputs": [],
   "source": []
  }
 ],
 "metadata": {
  "anaconda-cloud": {},
  "kernel_info": {
   "name": "python3"
  },
  "kernelspec": {
   "display_name": "Python [conda env:PythonData] *",
   "language": "python",
   "name": "conda-env-PythonData-py"
  },
  "language_info": {
   "codemirror_mode": {
    "name": "ipython",
    "version": 3
   },
   "file_extension": ".py",
   "mimetype": "text/x-python",
   "name": "python",
   "nbconvert_exporter": "python",
   "pygments_lexer": "ipython3",
   "version": "3.6.10"
  },
  "latex_envs": {
   "LaTeX_envs_menu_present": true,
   "autoclose": false,
   "autocomplete": true,
   "bibliofile": "biblio.bib",
   "cite_by": "apalike",
   "current_citInitial": 1,
   "eqLabelWithNumbers": true,
   "eqNumInitial": 1,
   "hotkeys": {
    "equation": "Ctrl-E",
    "itemize": "Ctrl-I"
   },
   "labels_anchors": false,
   "latex_user_defs": false,
   "report_style_numbering": false,
   "user_envs_cfg": false
  },
  "nteract": {
   "version": "0.2.0"
  }
 },
 "nbformat": 4,
 "nbformat_minor": 2
}
